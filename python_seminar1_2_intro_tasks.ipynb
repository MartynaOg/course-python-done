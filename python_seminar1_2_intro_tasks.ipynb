{
  "cells": [
    {
      "cell_type": "markdown",
      "metadata": {
        "colab_type": "text",
        "id": "view-in-github"
      },
      "source": [
        "<a href=\"https://colab.research.google.com/github/hruska-lab/course-python/blob/main/python_seminar1_2_intro_tasks.ipynb\" target=\"_parent\"><img src=\"https://colab.research.google.com/assets/colab-badge.svg\" alt=\"Open In Colab\"/></a>"
      ]
    },
    {
      "cell_type": "markdown",
      "metadata": {
        "id": "XPnKw-KQXj5j"
      },
      "source": [
        "definition of a variable"
      ]
    },
    {
      "cell_type": "code",
      "execution_count": 2,
      "metadata": {
        "id": "EIaB5buAIQs7"
      },
      "outputs": [],
      "source": [
        "a=1.5"
      ]
    },
    {
      "cell_type": "markdown",
      "metadata": {
        "id": "G8UAgIM1Xp7L"
      },
      "source": [
        "Print value of a variable"
      ]
    },
    {
      "cell_type": "code",
      "execution_count": 3,
      "metadata": {
        "id": "_-KhwgtQIaBA"
      },
      "outputs": [
        {
          "name": "stdout",
          "output_type": "stream",
          "text": [
            "1.5\n"
          ]
        }
      ],
      "source": [
        "print(a)"
      ]
    },
    {
      "cell_type": "markdown",
      "metadata": {
        "id": "TzoOhDFnYCaw"
      },
      "source": [
        "Can print strings within \" \""
      ]
    },
    {
      "cell_type": "code",
      "execution_count": null,
      "metadata": {
        "id": "X0_QfOUGX_JG"
      },
      "outputs": [],
      "source": [
        "print(\"Variable is\", a)"
      ]
    },
    {
      "cell_type": "markdown",
      "metadata": {
        "id": "l9L1Hv_YXvAf"
      },
      "source": [
        "list of data defined as a list"
      ]
    },
    {
      "cell_type": "code",
      "execution_count": 25,
      "metadata": {
        "id": "4lyCE4vgIx9D"
      },
      "outputs": [],
      "source": [
        "data=[1,2,3,4]"
      ]
    },
    {
      "cell_type": "markdown",
      "metadata": {
        "id": "W3FalTSAZzDq"
      },
      "source": [
        "Variable names can be whatever but without spaces.\n",
        "Numbers in english notation 1.2 (not 1,2)"
      ]
    },
    {
      "cell_type": "code",
      "execution_count": 26,
      "metadata": {
        "id": "_eEabH0-Zu7L"
      },
      "outputs": [],
      "source": [
        "data_experiment=[3.2,1.25, 5.0, 4.2]"
      ]
    },
    {
      "cell_type": "markdown",
      "metadata": {
        "id": "5zqHMPRlX1Az"
      },
      "source": [
        "access one element of the list"
      ]
    },
    {
      "cell_type": "code",
      "execution_count": 5,
      "metadata": {
        "id": "8XSPvtIYX0OY"
      },
      "outputs": [
        {
          "data": {
            "text/plain": [
              "3"
            ]
          },
          "execution_count": 5,
          "metadata": {},
          "output_type": "execute_result"
        }
      ],
      "source": [
        "data[2]"
      ]
    },
    {
      "cell_type": "markdown",
      "metadata": {
        "id": "N4HwtcRuYHDy"
      },
      "source": [
        "To process data use package numpy, first import:"
      ]
    },
    {
      "cell_type": "code",
      "execution_count": 4,
      "metadata": {
        "id": "SbZ5VbjgSs-F"
      },
      "outputs": [],
      "source": [
        "import numpy"
      ]
    },
    {
      "cell_type": "markdown",
      "metadata": {
        "id": "vD19sQQTYRyC"
      },
      "source": [
        "Each numpy function is in form: numpy.functionname(parameters)"
      ]
    },
    {
      "cell_type": "code",
      "execution_count": 5,
      "metadata": {
        "colab": {
          "base_uri": "https://localhost:8080/",
          "height": 177
        },
        "id": "YWsQ01vcFlSq",
        "outputId": "4b18a2c9-0622-49f1-9d90-49bdc7e36c04"
      },
      "outputs": [
        {
          "data": {
            "text/plain": [
              "2.5"
            ]
          },
          "execution_count": 5,
          "metadata": {},
          "output_type": "execute_result"
        }
      ],
      "source": [
        "numpy.average(data)"
      ]
    },
    {
      "cell_type": "markdown",
      "metadata": {
        "id": "OR3dqBE6YZnD"
      },
      "source": [
        "This function  parameters (most not necessary) is described under https://numpy.org/doc/stable/reference/generated/numpy.average.html"
      ]
    },
    {
      "cell_type": "markdown",
      "metadata": {
        "id": "hEqXS2W8YgcJ"
      },
      "source": [
        "There are many functions, no need to remember most of them. Example for standard deviation https://numpy.org/doc/stable/reference/generated/numpy.std.html"
      ]
    },
    {
      "cell_type": "code",
      "execution_count": null,
      "metadata": {
        "id": "8Xsts-erYf1D"
      },
      "outputs": [],
      "source": [
        "numpy.std(data)"
      ]
    },
    {
      "cell_type": "markdown",
      "metadata": {
        "id": "K7UZPZQGY71p"
      },
      "source": [
        "Other functions: numpy.exp for exponential of each element of list"
      ]
    },
    {
      "cell_type": "code",
      "execution_count": null,
      "metadata": {
        "id": "mGcEMZA6Y7Bx"
      },
      "outputs": [],
      "source": [
        "numpy.exp(data)"
      ]
    },
    {
      "cell_type": "markdown",
      "metadata": {
        "id": "F-L4LlN8eVSR"
      },
      "source": [
        "output of any function can be saved as new variable, it wont print anything but can be used in next steps"
      ]
    },
    {
      "cell_type": "code",
      "execution_count": null,
      "metadata": {
        "id": "oNgBOX3hect-"
      },
      "outputs": [],
      "source": [
        "b=numpy.exp(data)"
      ]
    },
    {
      "cell_type": "code",
      "execution_count": null,
      "metadata": {
        "id": "4XwGc_8RegsW"
      },
      "outputs": [],
      "source": [
        "print(\"output\", b)"
      ]
    },
    {
      "cell_type": "code",
      "execution_count": null,
      "metadata": {
        "id": "IbsswrjXeUnH"
      },
      "outputs": [],
      "source": []
    },
    {
      "cell_type": "markdown",
      "metadata": {
        "id": "aPmEDSz_GwgU"
      },
      "source": [
        "# for loop\n",
        "repeat commands with different parameters"
      ]
    },
    {
      "cell_type": "code",
      "execution_count": 8,
      "metadata": {
        "colab": {
          "base_uri": "https://localhost:8080/"
        },
        "id": "c8xZVmjpZtd7",
        "outputId": "c2c1a8f5-9272-4adb-b196-379faa005a64"
      },
      "outputs": [
        {
          "name": "stdout",
          "output_type": "stream",
          "text": [
            "0 0\n",
            "1 1\n",
            "2 4\n",
            "3 9\n",
            "4 16\n",
            "5 25\n",
            "6 36\n",
            "7 49\n",
            "8 64\n",
            "9 81\n"
          ]
        }
      ],
      "source": [
        "for i in range(10):\n",
        "  print(i, i**2)"
      ]
    },
    {
      "cell_type": "code",
      "execution_count": 10,
      "metadata": {},
      "outputs": [
        {
          "name": "stdout",
          "output_type": "stream",
          "text": [
            "0 0\n",
            "1 1\n",
            "2 4\n",
            "3 9\n",
            "4 16\n",
            "5 25\n",
            "6 36\n",
            "7 49\n",
            "8 64\n",
            "9 81\n",
            "10 100\n",
            "11 121\n",
            "12 144\n",
            "13 169\n",
            "14 196\n",
            "15 225\n",
            "16 256\n",
            "17 289\n",
            "18 324\n",
            "19 361\n"
          ]
        }
      ],
      "source": [
        "for i in range(20):\n",
        "        print(i, i**2)\n",
        "    "
      ]
    },
    {
      "cell_type": "code",
      "execution_count": 14,
      "metadata": {
        "colab": {
          "base_uri": "https://localhost:8080/"
        },
        "id": "tWljNymlGu4z",
        "outputId": "1e7aeefc-baf5-4e4c-f9c5-f9382f4fe99f"
      },
      "outputs": [
        {
          "name": "stdout",
          "output_type": "stream",
          "text": [
            "0 1.0\n",
            "1 2.718281828459045\n",
            "2 7.38905609893065\n",
            "3 20.085536923187668\n",
            "4 54.598150033144236\n"
          ]
        }
      ],
      "source": [
        "for i in range(5):\n",
        "  valuei=numpy.exp(i)\n",
        "  print(i, valuei)"
      ]
    },
    {
      "cell_type": "code",
      "execution_count": 13,
      "metadata": {},
      "outputs": [
        {
          "name": "stdout",
          "output_type": "stream",
          "text": [
            "0 1.0\n",
            "1 2.718281828459045\n",
            "2 7.38905609893065\n",
            "3 20.085536923187668\n",
            "4 54.598150033144236\n",
            "5 148.4131591025766\n",
            "6 403.4287934927351\n",
            "7 1096.6331584284585\n",
            "8 2980.9579870417283\n",
            "9 8103.083927575384\n"
          ]
        }
      ],
      "source": [
        "for i in range(10):\n",
        "    valuei=numpy.exp(i)\n",
        "    print(i, valuei)"
      ]
    },
    {
      "cell_type": "markdown",
      "metadata": {
        "id": "JDSXpX5QBTYP"
      },
      "source": [
        "# if statement\n",
        "commands inside if happen only if condition behind \"if\" is True\n",
        "condition examples\n",
        "* i>5\n",
        "* function(i)==3"
      ]
    },
    {
      "cell_type": "code",
      "execution_count": null,
      "metadata": {
        "colab": {
          "base_uri": "https://localhost:8080/"
        },
        "id": "QLO2qu93BKkk",
        "outputId": "d595ef30-398e-4aa8-93a9-fb45614156c2"
      },
      "outputs": [
        {
          "name": "stdout",
          "output_type": "stream",
          "text": [
            "6 36\n",
            "7 49\n",
            "8 64\n",
            "9 81\n"
          ]
        }
      ],
      "source": [
        "for i in range(10):\n",
        "  if i>5:\n",
        "    print(i, i**2)"
      ]
    },
    {
      "cell_type": "code",
      "execution_count": 19,
      "metadata": {},
      "outputs": [
        {
          "ename": "NameError",
          "evalue": "name 'function' is not defined",
          "output_type": "error",
          "traceback": [
            "\u001b[1;31m---------------------------------------------------------------------------\u001b[0m",
            "\u001b[1;31mNameError\u001b[0m                                 Traceback (most recent call last)",
            "Cell \u001b[1;32mIn[19], line 1\u001b[0m\n\u001b[1;32m----> 1\u001b[0m \u001b[38;5;28;01mfor\u001b[39;00m i \u001b[38;5;129;01min\u001b[39;00m \u001b[38;5;28mrange\u001b[39m(\u001b[38;5;241m10\u001b[39m) \u001b[38;5;129;01mand\u001b[39;00m function(i)\u001b[38;5;241m==\u001b[39m\u001b[38;5;241m3\u001b[39m:\n\u001b[0;32m      2\u001b[0m     \u001b[38;5;28;01mif\u001b[39;00m i\u001b[38;5;241m>\u001b[39m\u001b[38;5;241m5\u001b[39m:\n\u001b[0;32m      3\u001b[0m         \u001b[38;5;28;01mif\u001b[39;00m function(i)\u001b[38;5;241m==\u001b[39m\u001b[38;5;241m3\u001b[39m:\n",
            "\u001b[1;31mNameError\u001b[0m: name 'function' is not defined"
          ]
        }
      ],
      "source": [
        "for i in range(10) and function(i)==3:\n",
        "    if i>5:\n",
        "        if function(i)==3:\n",
        "            print(i, function(i)==3)"
      ]
    },
    {
      "cell_type": "markdown",
      "metadata": {
        "id": "ChtuLaRoZTRD"
      },
      "source": [
        "#For plotting use matplotlib\n",
        "For plotting always first import matplotlib with import matplotlib.pyplot as plt\n"
      ]
    },
    {
      "cell_type": "markdown",
      "metadata": {
        "id": "T8_RZO4Hd9dp"
      },
      "source": [
        "plt.scatter is for plot x and y plot as scattering. More examples: https://matplotlib.org/stable/gallery/index.html"
      ]
    },
    {
      "cell_type": "code",
      "execution_count": 27,
      "metadata": {
        "id": "kuGQKGZ9M5LU"
      },
      "outputs": [
        {
          "data": {
            "text/plain": [
              "<matplotlib.collections.PathCollection at 0x1c7281be410>"
            ]
          },
          "execution_count": 27,
          "metadata": {},
          "output_type": "execute_result"
        },
        {
          "data": {
            "image/png": "[encoded data removed]",
            "text/plain": [
              "<Figure size 640x480 with 1 Axes>"
            ]
          },
          "metadata": {},
          "output_type": "display_data"
        }
      ],
      "source": [
        "import matplotlib.pyplot as plt\n",
        "plt.scatter(data, data_experiment)"
      ]
    },
    {
      "cell_type": "markdown",
      "metadata": {
        "id": "pyEdRNvYb3rA"
      },
      "source": [
        "to add axis labels, title add .xlabel( and .ylabel( and .title("
      ]
    },
    {
      "cell_type": "code",
      "execution_count": 28,
      "metadata": {
        "id": "iP4VVGcecAoK"
      },
      "outputs": [
        {
          "data": {
            "text/plain": [
              "Text(0.5, 1.0, 'title')"
            ]
          },
          "execution_count": 28,
          "metadata": {},
          "output_type": "execute_result"
        },
        {
          "data": {
            "image/png": "[encoded data removed]",
            "text/plain": [
              "<Figure size 640x480 with 1 Axes>"
            ]
          },
          "metadata": {},
          "output_type": "display_data"
        }
      ],
      "source": [
        "\n",
        "plt.scatter(data, data_experiment)\n",
        "plt.xlabel('x label')\n",
        "plt.ylabel('y label')\n",
        "plt.title('title')"
      ]
    },
    {
      "cell_type": "code",
      "execution_count": null,
      "metadata": {
        "id": "5Mqkv1D2cOIO"
      },
      "outputs": [],
      "source": []
    },
    {
      "cell_type": "markdown",
      "metadata": {
        "id": "kPu8yu0EcUD4"
      },
      "source": [
        "to save figure as pdf add savefig, then on left,middle click on file symbol, allows to download that pdf\n",
        "\n"
      ]
    },
    {
      "cell_type": "code",
      "execution_count": 29,
      "metadata": {
        "id": "_ys9f7apb_BL"
      },
      "outputs": [
        {
          "data": {
            "image/png": "[encoded data removed]",
            "text/plain": [
              "<Figure size 640x480 with 1 Axes>"
            ]
          },
          "metadata": {},
          "output_type": "display_data"
        }
      ],
      "source": [
        "\n",
        "plt.scatter(data, data_experiment)\n",
        "plt.xlabel('x label')\n",
        "plt.ylabel('y label')\n",
        "plt.title('title')\n",
        "plt.savefig('matplotlib-demo.pdf')"
      ]
    },
    {
      "cell_type": "markdown",
      "metadata": {
        "id": "GWrM43CVczQZ"
      },
      "source": [
        "# more statistics in package scipy\n",
        "example pearson correlation"
      ]
    },
    {
      "cell_type": "code",
      "execution_count": 30,
      "metadata": {
        "id": "vNob7iJ1Nbre"
      },
      "outputs": [],
      "source": [
        "from scipy import stats"
      ]
    },
    {
      "cell_type": "code",
      "execution_count": 31,
      "metadata": {
        "id": "tU-GR0EDOxm3"
      },
      "outputs": [],
      "source": [
        "x = [1, 2, 3]\n",
        "y=[10, 9, 2.5]"
      ]
    },
    {
      "cell_type": "code",
      "execution_count": 32,
      "metadata": {
        "id": "J2qoTKRuOxpP"
      },
      "outputs": [],
      "source": [
        "res = stats.pearsonr(x, y)"
      ]
    },
    {
      "cell_type": "code",
      "execution_count": 33,
      "metadata": {
        "id": "8XWogN3-eN-h"
      },
      "outputs": [
        {
          "data": {
            "text/plain": [
              "PearsonRResult(statistic=-0.9208636977038153, pvalue=0.25497025525264966)"
            ]
          },
          "execution_count": 33,
          "metadata": {},
          "output_type": "execute_result"
        }
      ],
      "source": [
        "res"
      ]
    },
    {
      "cell_type": "markdown",
      "metadata": {
        "id": "K0gOP7nLalKk"
      },
      "source": [
        "# Functions in python can be defined\n"
      ]
    },
    {
      "cell_type": "code",
      "execution_count": 34,
      "metadata": {
        "id": "Ozwulm4nOxuD"
      },
      "outputs": [],
      "source": [
        "def get_mean_and_std(arr):\n",
        "  mean=numpy.mean(arr)\n",
        "  std=numpy.std(arr)\n",
        "  return mean, std"
      ]
    },
    {
      "cell_type": "code",
      "execution_count": null,
      "metadata": {},
      "outputs": [],
      "source": [
        "def get_mean_and_std(6,7,8):\n",
        "    mean=numpy.mean()"
      ]
    },
    {
      "cell_type": "markdown",
      "metadata": {
        "id": "lkfDVPjca0ZB"
      },
      "source": [
        "the function can be used to automate several steps"
      ]
    },
    {
      "cell_type": "code",
      "execution_count": 35,
      "metadata": {
        "id": "WOgsNyAJOxwD"
      },
      "outputs": [
        {
          "data": {
            "text/plain": [
              "(2.5, 1.118033988749895)"
            ]
          },
          "execution_count": 35,
          "metadata": {},
          "output_type": "execute_result"
        }
      ],
      "source": [
        "get_mean_and_std(data)"
      ]
    },
    {
      "cell_type": "code",
      "execution_count": 36,
      "metadata": {
        "id": "7VINRJFUK6Sv"
      },
      "outputs": [
        {
          "data": {
            "text/plain": [
              "(3.4124999999999996, 1.4019517645054698)"
            ]
          },
          "execution_count": 36,
          "metadata": {},
          "output_type": "execute_result"
        }
      ],
      "source": [
        "get_mean_and_std(data_experiment)"
      ]
    },
    {
      "cell_type": "code",
      "execution_count": null,
      "metadata": {
        "id": "egsWwy6YbC0U"
      },
      "outputs": [],
      "source": []
    },
    {
      "cell_type": "code",
      "execution_count": null,
      "metadata": {
        "id": "Ux5xExUNbC3V"
      },
      "outputs": [],
      "source": []
    },
    {
      "cell_type": "markdown",
      "metadata": {
        "id": "9oj5unwvbEIJ"
      },
      "source": [
        "#Example for heatmap + hierarchical clustering creation\n",
        "first install custom python package:"
      ]
    },
    {
      "cell_type": "code",
      "execution_count": 1,
      "metadata": {
        "id": "fxWae3aoRTfy"
      },
      "outputs": [
        {
          "name": "stdout",
          "output_type": "stream",
          "text": [
            "Requirement already satisfied: heatmapcluster in c:\\users\\martyna\\anaconda3\\lib\\site-packages (0.1.2)\n",
            "Requirement already satisfied: matplotlib in c:\\users\\martyna\\anaconda3\\lib\\site-packages (from heatmapcluster) (3.8.4)\n",
            "Requirement already satisfied: numpy>=1.6.0 in c:\\users\\martyna\\anaconda3\\lib\\site-packages (from heatmapcluster) (1.26.4)\n",
            "Requirement already satisfied: scipy in c:\\users\\martyna\\anaconda3\\lib\\site-packages (from heatmapcluster) (1.13.1)\n",
            "Requirement already satisfied: contourpy>=1.0.1 in c:\\users\\martyna\\anaconda3\\lib\\site-packages (from matplotlib->heatmapcluster) (1.2.0)\n",
            "Requirement already satisfied: cycler>=0.10 in c:\\users\\martyna\\anaconda3\\lib\\site-packages (from matplotlib->heatmapcluster) (0.11.0)\n",
            "Requirement already satisfied: fonttools>=4.22.0 in c:\\users\\martyna\\anaconda3\\lib\\site-packages (from matplotlib->heatmapcluster) (4.25.0)\n",
            "Requirement already satisfied: kiwisolver>=1.3.1 in c:\\users\\martyna\\anaconda3\\lib\\site-packages (from matplotlib->heatmapcluster) (1.4.4)\n",
            "Requirement already satisfied: packaging>=20.0 in c:\\users\\martyna\\anaconda3\\lib\\site-packages (from matplotlib->heatmapcluster) (23.1)\n",
            "Requirement already satisfied: pillow>=8 in c:\\users\\martyna\\anaconda3\\lib\\site-packages (from matplotlib->heatmapcluster) (10.2.0)\n",
            "Requirement already satisfied: pyparsing>=2.3.1 in c:\\users\\martyna\\anaconda3\\lib\\site-packages (from matplotlib->heatmapcluster) (3.0.9)\n",
            "Requirement already satisfied: python-dateutil>=2.7 in c:\\users\\martyna\\anaconda3\\lib\\site-packages (from matplotlib->heatmapcluster) (2.8.2)\n",
            "Requirement already satisfied: six>=1.5 in c:\\users\\martyna\\anaconda3\\lib\\site-packages (from python-dateutil>=2.7->matplotlib->heatmapcluster) (1.16.0)\n"
          ]
        }
      ],
      "source": [
        "! pip install heatmapcluster"
      ]
    },
    {
      "cell_type": "markdown",
      "metadata": {
        "id": "0q3lPa4ybeMI"
      },
      "source": [
        "then import"
      ]
    },
    {
      "cell_type": "code",
      "execution_count": 2,
      "metadata": {
        "id": "lrnCAw0YRTi6"
      },
      "outputs": [],
      "source": [
        "from heatmapcluster import heatmapcluster"
      ]
    },
    {
      "cell_type": "markdown",
      "metadata": {
        "id": "Zv7Xjf2Hbpy6"
      },
      "source": [
        "write data and labels into python"
      ]
    },
    {
      "cell_type": "code",
      "execution_count": 4,
      "metadata": {
        "id": "WsqNX9VzR2-l"
      },
      "outputs": [
        {
          "ename": "NameError",
          "evalue": "name 'numpy' is not defined",
          "output_type": "error",
          "traceback": [
            "\u001b[1;31m---------------------------------------------------------------------------\u001b[0m",
            "\u001b[1;31mNameError\u001b[0m                                 Traceback (most recent call last)",
            "Cell \u001b[1;32mIn[4], line 4\u001b[0m\n\u001b[0;32m      2\u001b[0m labels_conditions\u001b[38;5;241m=\u001b[39m[\u001b[38;5;124m'\u001b[39m\u001b[38;5;124m1\u001b[39m\u001b[38;5;132;01m% E\u001b[39;00m\u001b[38;5;124mthanol\u001b[39m\u001b[38;5;124m'\u001b[39m, \u001b[38;5;124m'\u001b[39m\u001b[38;5;124m31 °C\u001b[39m\u001b[38;5;124m'\u001b[39m, \u001b[38;5;124m'\u001b[39m\u001b[38;5;124m1mM inhibitor\u001b[39m\u001b[38;5;124m'\u001b[39m, \u001b[38;5;124m'\u001b[39m\u001b[38;5;124m5mM inhibitor\u001b[39m\u001b[38;5;124m'\u001b[39m, \u001b[38;5;124m'\u001b[39m\u001b[38;5;124mactivator\u001b[39m\u001b[38;5;124m'\u001b[39m]\n\u001b[0;32m      3\u001b[0m \u001b[38;5;66;03m#normalized to reference condition\u001b[39;00m\n\u001b[1;32m----> 4\u001b[0m data_activity\u001b[38;5;241m=\u001b[39mnumpy\u001b[38;5;241m.\u001b[39marray([[\u001b[38;5;241m0.29\u001b[39m, \u001b[38;5;241m0.2\u001b[39m , \u001b[38;5;241m0.25\u001b[39m, \u001b[38;5;241m0.17\u001b[39m, \u001b[38;5;241m0.19\u001b[39m, \u001b[38;5;241m0.15\u001b[39m, \u001b[38;5;241m0.13\u001b[39m, \u001b[38;5;241m0.12\u001b[39m],\n\u001b[0;32m      5\u001b[0m        [\u001b[38;5;241m2.43\u001b[39m, \u001b[38;5;241m2.87\u001b[39m, \u001b[38;5;241m1.61\u001b[39m, \u001b[38;5;241m2.05\u001b[39m, \u001b[38;5;241m1.23\u001b[39m, \u001b[38;5;241m1.16\u001b[39m, \u001b[38;5;241m2.25\u001b[39m, \u001b[38;5;241m2.41\u001b[39m],\n\u001b[0;32m      6\u001b[0m        [\u001b[38;5;241m2.4\u001b[39m , \u001b[38;5;241m2.69\u001b[39m, \u001b[38;5;241m1.56\u001b[39m, \u001b[38;5;241m1.9\u001b[39m , \u001b[38;5;241m1.15\u001b[39m, \u001b[38;5;241m1.15\u001b[39m, \u001b[38;5;241m2.22\u001b[39m, \u001b[38;5;241m2.28\u001b[39m],\n\u001b[0;32m      7\u001b[0m        [\u001b[38;5;241m1.99\u001b[39m, \u001b[38;5;241m2.34\u001b[39m, \u001b[38;5;241m1.2\u001b[39m , \u001b[38;5;241m1.69\u001b[39m, \u001b[38;5;241m0.07\u001b[39m, \u001b[38;5;241m0.93\u001b[39m, \u001b[38;5;241m1.11\u001b[39m, \u001b[38;5;241m0.95\u001b[39m],\n\u001b[0;32m      8\u001b[0m        [\u001b[38;5;241m2.81\u001b[39m, \u001b[38;5;241m3.43\u001b[39m, \u001b[38;5;241m1.81\u001b[39m, \u001b[38;5;241m2.3\u001b[39m , \u001b[38;5;241m1.53\u001b[39m, \u001b[38;5;241m2.04\u001b[39m, \u001b[38;5;241m3.12\u001b[39m, \u001b[38;5;241m3.25\u001b[39m]])\n",
            "\u001b[1;31mNameError\u001b[0m: name 'numpy' is not defined"
          ]
        }
      ],
      "source": [
        "labels_genes=['gene A', 'gene B', 'gene C', 'gene D', 'gene E', 'gene F', 'gene G', 'gene H']\n",
        "labels_conditions=['1% Ethanol', '31 °C', '1mM inhibitor', '5mM inhibitor', 'activator']\n",
        "#normalized to reference condition\n",
        "data_activity=numpy.array([[0.29, 0.2 , 0.25, 0.17, 0.19, 0.15, 0.13, 0.12],\n",
        "       [2.43, 2.87, 1.61, 2.05, 1.23, 1.16, 2.25, 2.41],\n",
        "       [2.4 , 2.69, 1.56, 1.9 , 1.15, 1.15, 2.22, 2.28],\n",
        "       [1.99, 2.34, 1.2 , 1.69, 0.07, 0.93, 1.11, 0.95],\n",
        "       [2.81, 3.43, 1.81, 2.3 , 1.53, 2.04, 3.12, 3.25]])"
      ]
    },
    {
      "cell_type": "markdown",
      "metadata": {
        "id": "UIRZVfr4dLpA"
      },
      "source": [
        "Run function with takes as parameters data, labels and couple optional parameters (described at https://github.com/WarrenWeckesser/heatmapcluster). The png can be downloaded."
      ]
    },
    {
      "cell_type": "code",
      "execution_count": 43,
      "metadata": {
        "id": "1YPZO2brb00L"
      },
      "outputs": [
        {
          "data": {
            "image/png": "[encoded data removed]",
            "text/plain": [
              "<Figure size 600x400 with 4 Axes>"
            ]
          },
          "metadata": {},
          "output_type": "display_data"
        }
      ],
      "source": [
        "h = heatmapcluster(data_activity, labels_conditions, labels_genes,\n",
        "                   num_row_clusters=3, num_col_clusters=3, colorbar_pad=1.5,\n",
        "                   label_fontsize=10,\n",
        "                   xlabel_rotation=90,\n",
        "                   cmap='bwr',\n",
        "                   show_colorbar=True,\n",
        "                   top_dendrogram=True,\n",
        "                   figsize=(6,4),\n",
        "                   )\n",
        "plt.savefig('heatmap-result.png', dpi=200)"
      ]
    }
  ],
  "metadata": {
    "colab": {
      "authorship_tag": "ABX9TyPMHAYt1cCJCbGJrOgEJwZA",
      "include_colab_link": true,
      "provenance": []
    },
    "kernelspec": {
      "display_name": "Python 3",
      "name": "python3"
    },
    "language_info": {
      "codemirror_mode": {
        "name": "ipython",
        "version": 3
      },
      "file_extension": ".py",
      "mimetype": "text/x-python",
      "name": "python",
      "nbconvert_exporter": "python",
      "pygments_lexer": "ipython3",
      "version": "3.11.7"
    }
  },
  "nbformat": 4,
  "nbformat_minor": 0
}
